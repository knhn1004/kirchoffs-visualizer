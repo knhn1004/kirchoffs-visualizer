{
 "cells": [
  {
   "cell_type": "markdown",
   "metadata": {},
   "source": [
    "1. Identify and label the entire set of nodes in our circuit.\n"
   ]
  },
  {
   "cell_type": "code",
   "execution_count": 1,
   "metadata": {},
   "outputs": [
    {
     "data": {
      "text/plain": [
       "[{'type': 'resistor', 'value': 100, 'terminals': [(2, 0), (4, 0)]},\n",
       " {'type': 'voltage_source', 'value': 5, 'terminals': [(9, 7), (2, 7)]},\n",
       " {'type': 'resistor', 'value': 200, 'terminals': [(3, 1), (2, 1)]}]"
      ]
     },
     "execution_count": 1,
     "metadata": {},
     "output_type": "execute_result"
    }
   ],
   "source": [
    "import numpy as np\n",
    "import random\n",
    "\n",
    "\n",
    "def generate_connected_coordinates(board_width, board_height, num_components):\n",
    "    coordinates = []\n",
    "    used_columns = set()\n",
    "    for _ in range(num_components):\n",
    "        # Ensure at least one terminal shares a column with a previous component\n",
    "        common_x = random.choice(\n",
    "            list(used_columns)) if used_columns else random.randint(0, board_width - 1)\n",
    "        x1 = common_x if random.random() < 0.5 else random.randint(0, board_width - 1)\n",
    "        x2 = random.randint(0, board_width - 1) if x1 == common_x else common_x\n",
    "        y = random.randint(0, board_height - 1)\n",
    "        coordinates.append([(x1, y), (x2, y)])\n",
    "        used_columns.update([x1, x2])\n",
    "    return coordinates\n",
    "\n",
    "\n",
    "board_width = 15\n",
    "board_height = 10\n",
    "num_components = 3\n",
    "\n",
    "terminal_coordinates = generate_connected_coordinates(\n",
    "    board_width, board_height, num_components)\n",
    "\n",
    "components = [\n",
    "    {\"type\": \"resistor\", \"value\": 100, \"terminals\": terminal_coordinates[0]},\n",
    "    {\"type\": \"voltage_source\", \"value\": 5,\n",
    "        \"terminals\": terminal_coordinates[1]},\n",
    "    {\"type\": \"resistor\", \"value\": 200, \"terminals\": terminal_coordinates[2]}\n",
    "]\n",
    "\n",
    "components"
   ]
  },
  {
   "cell_type": "code",
   "execution_count": 2,
   "metadata": {},
   "outputs": [
    {
     "name": "stdout",
     "output_type": "stream",
     "text": [
      "0 0 1 0 1 0 0 0 0 0 0 0 0 0 0 \n",
      "0 0 1 1 0 0 0 0 0 0 0 0 0 0 0 \n",
      "0 0 0 0 0 0 0 0 0 0 0 0 0 0 0 \n",
      "0 0 0 0 0 0 0 0 0 0 0 0 0 0 0 \n",
      "0 0 0 0 0 0 0 0 0 0 0 0 0 0 0 \n",
      "0 0 0 0 0 0 0 0 0 0 0 0 0 0 0 \n",
      "0 0 0 0 0 0 0 0 0 0 0 0 0 0 0 \n",
      "0 0 2 0 0 0 0 0 0 2 0 0 0 0 0 \n",
      "0 0 0 0 0 0 0 0 0 0 0 0 0 0 0 \n",
      "0 0 0 0 0 0 0 0 0 0 0 0 0 0 0 \n"
     ]
    }
   ],
   "source": [
    "# Initialize the matrix representing the breadboard\n",
    "board = np.zeros((board_height, board_width))\n",
    "\n",
    "# Populate the board matrix with the components\n",
    "for component in components:\n",
    "    for terminal in component[\"terminals\"]:\n",
    "        y, x = terminal  # Swap the coordinates to match the matrix indexing\n",
    "        # Use different values for resistors and voltage sources\n",
    "        board[x, y] = 1 if component[\"type\"] == \"resistor\" else 2\n",
    "\n",
    "# Print the matrix\n",
    "for row in board:\n",
    "    for cell in row:\n",
    "        print(int(cell), end=\" \")\n",
    "    print()"
   ]
  },
  {
   "cell_type": "markdown",
   "metadata": {},
   "source": [
    "2. Model the circuit as a directed graph."
   ]
  },
  {
   "cell_type": "code",
   "execution_count": 35,
   "metadata": {},
   "outputs": [
    {
     "name": "stdout",
     "output_type": "stream",
     "text": [
      "((10, 3), (9, 3)) - 100\n",
      "((3, 4), (11, 4)) - 5\n",
      "((1, 1), (3, 1)) - 200\n"
     ]
    }
   ],
   "source": [
    "import networkx as nx\n",
    "\n",
    "# Create an empty graph\n",
    "G = nx.Graph()\n",
    "\n",
    "# Add nodes and edges from the components list\n",
    "for component in components:\n",
    "    terminal1, terminal2 = component[\"terminals\"]\n",
    "    G.add_node(terminal1)\n",
    "    G.add_node(terminal2)\n",
    "    G.add_edge(terminal1, terminal2, weight=component[\"value\"])\n",
    "\n",
    "# Print the edges of the graph with weights\n",
    "for u, v, weight in G.edges(data='weight'):\n",
    "    print(f\"({u}, {v}) - {weight}\")\n"
   ]
  },
  {
   "cell_type": "code",
   "execution_count": null,
   "metadata": {},
   "outputs": [],
   "source": []
  }
 ],
 "metadata": {
  "kernelspec": {
   "display_name": "Python 3",
   "language": "python",
   "name": "python3"
  },
  "language_info": {
   "codemirror_mode": {
    "name": "ipython",
    "version": 3
   },
   "file_extension": ".py",
   "mimetype": "text/x-python",
   "name": "python",
   "nbconvert_exporter": "python",
   "pygments_lexer": "ipython3",
   "version": "3.11.4"
  }
 },
 "nbformat": 4,
 "nbformat_minor": 2
}
