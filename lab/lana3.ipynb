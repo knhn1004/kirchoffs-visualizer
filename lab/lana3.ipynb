{
 "cells": [
  {
   "cell_type": "code",
   "execution_count": 1,
   "metadata": {},
   "outputs": [],
   "source": [
    "import numpy as np"
   ]
  },
  {
   "cell_type": "markdown",
   "metadata": {},
   "source": [
    "TODOs:\n",
    "- [ ] load circuit from frontend\n",
    "- [ ] circuit data structure\n",
    "- [ ] algorithm to convert circuit into digraph\n",
    "- [ ] algorithm: circuit DS to incidence matrices\n",
    "- [ ] load voltage source values and current source values from frontend\n",
    "- [ ] algorithm: generate deflation matrix D0 (determine ground node)\n",
    "- [ ] algorithm: generate particular solution vector, pg\n"
   ]
  },
  {
   "cell_type": "markdown",
   "metadata": {},
   "source": [
    "## step 1~2. Number of nodes and elements"
   ]
  },
  {
   "cell_type": "code",
   "execution_count": 2,
   "metadata": {},
   "outputs": [],
   "source": [
    "# TODO: pass from front-end\n",
    "\n",
    "n_g = 7 # number of nodes in the circuit\n",
    "\n",
    "m_r = 8 # number of resistors in circuit\n",
    "m_v = 2 # number of voltage sources in circuit\n",
    "m_i = 2 # number of current sources in circuit\n",
    "m = m_r + m_v + m_i # total number of elements in circuit"
   ]
  },
  {
   "cell_type": "markdown",
   "metadata": {},
   "source": [
    "## step 3. incidence matrix (edges, which were originally elements)"
   ]
  },
  {
   "cell_type": "code",
   "execution_count": 3,
   "metadata": {},
   "outputs": [],
   "source": [
    "# TODO: algorithm to generate the incidence matrix\n",
    "\n",
    "# resistor subblock of the incidence matrix\n",
    "# -1: in; 1: out; 0: not connected\n",
    "Arg = np.array([\n",
    "    [1, 0, 0, 0, 0, 0, -1],\n",
    "    [-1, 1, 0, 0, 0, 0, 0],\n",
    "    [0, 1, 0, 0, 0, 0, -1],\n",
    "    [0, 1, -1, 0, 0, 0, 0],\n",
    "    [0, 0, 1, 0, 0, -1, 0],\n",
    "    [0, 0, 0, 0, 0, 1, -1],\n",
    "    [0, 0, 1, -1, 0, 0, 0],\n",
    "    [0, 0, 0, 0, 1, -1, 0]\n",
    "])"
   ]
  },
  {
   "cell_type": "code",
   "execution_count": 4,
   "metadata": {},
   "outputs": [],
   "source": [
    "# voltage source subblock of the incidence matrix\n",
    "Avg = np.array([\n",
    "    [0, 1, 0, 0, 0, 0, -1],\n",
    "    [0, 0, 0, 1, -1, 0, 0]\n",
    "])"
   ]
  },
  {
   "cell_type": "code",
   "execution_count": 5,
   "metadata": {},
   "outputs": [],
   "source": [
    "# current source subblock of the incidence matrix\n",
    "Aig = np.array([\n",
    "    [0, -1, 0, 1, 0, 0, 0],\n",
    "    [0, 0, 0, 0, -1, 0, 1]\n",
    "])"
   ]
  },
  {
   "cell_type": "code",
   "execution_count": 6,
   "metadata": {},
   "outputs": [
    {
     "data": {
      "text/plain": [
       "array([[ 1,  0,  0,  0,  0,  0, -1],\n",
       "       [-1,  1,  0,  0,  0,  0,  0],\n",
       "       [ 0,  1,  0,  0,  0,  0, -1],\n",
       "       [ 0,  1, -1,  0,  0,  0,  0],\n",
       "       [ 0,  0,  1,  0,  0, -1,  0],\n",
       "       [ 0,  0,  0,  0,  0,  1, -1],\n",
       "       [ 0,  0,  1, -1,  0,  0,  0],\n",
       "       [ 0,  0,  0,  0,  1, -1,  0],\n",
       "       [ 0,  1,  0,  0,  0,  0, -1],\n",
       "       [ 0,  0,  0,  1, -1,  0,  0],\n",
       "       [ 0, -1,  0,  1,  0,  0,  0],\n",
       "       [ 0,  0,  0,  0, -1,  0,  1]])"
      ]
     },
     "execution_count": 6,
     "metadata": {},
     "output_type": "execute_result"
    }
   ],
   "source": [
    "# full incidence matrix\n",
    "Ag = np.vstack((Arg, Avg, Aig))\n",
    "Ag"
   ]
  },
  {
   "cell_type": "markdown",
   "metadata": {},
   "source": [
    "## step 5. state the entire set of circuit equations"
   ]
  },
  {
   "cell_type": "code",
   "execution_count": 7,
   "metadata": {},
   "outputs": [
    {
     "data": {
      "text/plain": [
       "(array([[5],\n",
       "        [5]]),\n",
       " array([[2.5],\n",
       "        [2.5]]))"
      ]
     },
     "execution_count": 7,
     "metadata": {},
     "output_type": "execute_result"
    }
   ],
   "source": [
    "# TODO: read from data\n",
    "\n",
    "# known ideal values provided by voltage sources\n",
    "Vv = np.array([[5], [5]])\n",
    "# known ideal values provided by current sources\n",
    "Ii = np.array([[2.5], [2.5]])\n",
    "Vv, Ii"
   ]
  },
  {
   "cell_type": "code",
   "execution_count": 8,
   "metadata": {},
   "outputs": [
    {
     "data": {
      "text/plain": [
       "array([[1., 0., 0., 0., 0., 0., 0., 0.],\n",
       "       [0., 1., 0., 0., 0., 0., 0., 0.],\n",
       "       [0., 0., 1., 0., 0., 0., 0., 0.],\n",
       "       [0., 0., 0., 1., 0., 0., 0., 0.],\n",
       "       [0., 0., 0., 0., 1., 0., 0., 0.],\n",
       "       [0., 0., 0., 0., 0., 1., 0., 0.],\n",
       "       [0., 0., 0., 0., 0., 0., 1., 0.],\n",
       "       [0., 0., 0., 0., 0., 0., 0., 1.]])"
      ]
     },
     "execution_count": 8,
     "metadata": {},
     "output_type": "execute_result"
    }
   ],
   "source": [
    "# resistor matrix: diagonal matrix with the resistances\n",
    "# in this case, all resistances are 1 Ohm\n",
    "R = np.diag(np.ones(m_r))\n",
    "R"
   ]
  },
  {
   "cell_type": "code",
   "execution_count": 9,
   "metadata": {},
   "outputs": [
    {
     "data": {
      "text/plain": [
       "array([[1., 0., 0., 0., 0., 0., 0., 0.],\n",
       "       [0., 1., 0., 0., 0., 0., 0., 0.],\n",
       "       [0., 0., 1., 0., 0., 0., 0., 0.],\n",
       "       [0., 0., 0., 1., 0., 0., 0., 0.],\n",
       "       [0., 0., 0., 0., 1., 0., 0., 0.],\n",
       "       [0., 0., 0., 0., 0., 1., 0., 0.],\n",
       "       [0., 0., 0., 0., 0., 0., 1., 0.],\n",
       "       [0., 0., 0., 0., 0., 0., 0., 1.]])"
      ]
     },
     "execution_count": 9,
     "metadata": {},
     "output_type": "execute_result"
    }
   ],
   "source": [
    "# Conductance matrix G: inverse of the resistance matrix\n",
    "# given resistance R, conductance G = 1/R\n",
    "G = np.linalg.inv(R)\n",
    "G"
   ]
  },
  {
   "cell_type": "markdown",
   "metadata": {},
   "source": [
    "## step. 7 Ground the circuit\n",
    "The ground node is the reference node. The voltage at the ground node is 0V."
   ]
  },
  {
   "cell_type": "code",
   "execution_count": 10,
   "metadata": {},
   "outputs": [
    {
     "data": {
      "text/plain": [
       "array([[1., 0., 0., 0., 0., 0.],\n",
       "       [0., 1., 0., 0., 0., 0.],\n",
       "       [0., 0., 1., 0., 0., 0.],\n",
       "       [0., 0., 0., 1., 0., 0.],\n",
       "       [0., 0., 0., 0., 1., 0.],\n",
       "       [0., 0., 0., 0., 0., 1.],\n",
       "       [0., 0., 0., 0., 0., 0.]])"
      ]
     },
     "execution_count": 10,
     "metadata": {},
     "output_type": "execute_result"
    }
   ],
   "source": [
    "# TODO algorithmically generate the D0 matrix\n",
    "\n",
    "D0 = np.eye(n_g)\n",
    "D0 = D0[:, :-1]  # remove the last column (ground node)\n",
    "D0"
   ]
  },
  {
   "cell_type": "code",
   "execution_count": 11,
   "metadata": {},
   "outputs": [
    {
     "data": {
      "text/plain": [
       "(array([[ 1.,  0.,  0.,  0.,  0.,  0.],\n",
       "        [-1.,  1.,  0.,  0.,  0.,  0.],\n",
       "        [ 0.,  1.,  0.,  0.,  0.,  0.],\n",
       "        [ 0.,  1., -1.,  0.,  0.,  0.],\n",
       "        [ 0.,  0.,  1.,  0.,  0., -1.],\n",
       "        [ 0.,  0.,  0.,  0.,  0.,  1.],\n",
       "        [ 0.,  0.,  1., -1.,  0.,  0.],\n",
       "        [ 0.,  0.,  0.,  0.,  1., -1.]]),\n",
       " array([[ 0.,  1.,  0.,  0.,  0.,  0.],\n",
       "        [ 0.,  0.,  0.,  1., -1.,  0.]]),\n",
       " array([[ 0., -1.,  0.,  1.,  0.,  0.],\n",
       "        [ 0.,  0.,  0.,  0., -1.,  0.]]),\n",
       " array([[ 1.,  0.,  0.,  0.,  0.,  0.],\n",
       "        [-1.,  1.,  0.,  0.,  0.,  0.],\n",
       "        [ 0.,  1.,  0.,  0.,  0.,  0.],\n",
       "        [ 0.,  1., -1.,  0.,  0.,  0.],\n",
       "        [ 0.,  0.,  1.,  0.,  0., -1.],\n",
       "        [ 0.,  0.,  0.,  0.,  0.,  1.],\n",
       "        [ 0.,  0.,  1., -1.,  0.,  0.],\n",
       "        [ 0.,  0.,  0.,  0.,  1., -1.],\n",
       "        [ 0.,  1.,  0.,  0.,  0.,  0.],\n",
       "        [ 0.,  0.,  0.,  1., -1.,  0.],\n",
       "        [ 0., -1.,  0.,  1.,  0.,  0.],\n",
       "        [ 0.,  0.,  0.,  0., -1.,  0.]]))"
      ]
     },
     "execution_count": 11,
     "metadata": {},
     "output_type": "execute_result"
    }
   ],
   "source": [
    "# Ground the circuit equations using deflation\n",
    "Ar0 = Arg @ D0\n",
    "Av0 = Avg @ D0\n",
    "Ai0 = Aig @ D0\n",
    "A0 = Ag @ D0\n",
    "\n",
    "Ar0, Av0, Ai0, A0"
   ]
  },
  {
   "cell_type": "markdown",
   "metadata": {},
   "source": [
    "## step 8. State the Grounded Circuit Equations"
   ]
  },
  {
   "cell_type": "markdown",
   "metadata": {},
   "source": [
    "## Step 9. Identify essential nodes, nonessential nodes, and supernodes"
   ]
  },
  {
   "cell_type": "markdown",
   "metadata": {},
   "source": [
    "## Step 10. Eliminate the node dependencies that arise due to voltage sources\n",
    "Create a particular solution to GLSP"
   ]
  },
  {
   "cell_type": "code",
   "execution_count": 12,
   "metadata": {},
   "outputs": [
    {
     "data": {
      "text/plain": [
       "array([[ 0],\n",
       "       [ 5],\n",
       "       [ 0],\n",
       "       [ 0],\n",
       "       [-5],\n",
       "       [ 0],\n",
       "       [ 0]])"
      ]
     },
     "execution_count": 12,
     "metadata": {},
     "output_type": "execute_result"
    }
   ],
   "source": [
    "# TODO: algorithmically generate the pg (particular solution) vector\n",
    "pg = np.array([[0], [Vv[0, 0]], [0], [0], [-Vv[1, 0]], [0], [0]])\n",
    "pg"
   ]
  },
  {
   "cell_type": "code",
   "execution_count": 13,
   "metadata": {},
   "outputs": [
    {
     "data": {
      "text/plain": [
       "array([[1, 0, 0, 0],\n",
       "       [0, 0, 0, 0],\n",
       "       [0, 1, 0, 0],\n",
       "       [0, 0, 1, 0],\n",
       "       [0, 0, 1, 0],\n",
       "       [0, 0, 0, 1],\n",
       "       [0, 0, 0, 0]])"
      ]
     },
     "execution_count": 13,
     "metadata": {},
     "output_type": "execute_result"
    }
   ],
   "source": [
    "# TODO: algorithmically create the deflation matrix\n",
    "# Create the deflation matrix for the entire set of voltage source KVLs\n",
    "Dvg = np.array([\n",
    "    [1, 0, 0, 0],\n",
    "    [0, 0, 0, 0],\n",
    "    [0, 1, 0, 0],\n",
    "    [0, 0, 1, 0],\n",
    "    [0, 0, 1, 0],\n",
    "    [0, 0, 0, 1],\n",
    "    [0, 0, 0, 0]\n",
    "])\n",
    "Dvg"
   ]
  },
  {
   "cell_type": "code",
   "execution_count": 14,
   "metadata": {},
   "outputs": [],
   "source": [
    "D = D0.T @ Dvg\n",
    "Ar = Ar0 @ D\n",
    "Ai = Ai0 @ D\n",
    "x0 = D0.T @ pg\n",
    "b = -Ar0 @ x0"
   ]
  },
  {
   "cell_type": "code",
   "execution_count": 15,
   "metadata": {},
   "outputs": [],
   "source": [
    "K = Ar.T @ G @ Ar\n",
    "f = Ar.T @ G @ b - Ai.T @ Ii"
   ]
  },
  {
   "cell_type": "code",
   "execution_count": 16,
   "metadata": {},
   "outputs": [],
   "source": [
    "u, _, _, _ = np.linalg.lstsq(K, f, rcond=None) # solve the linear system Ku = f\n",
    "u0 = x0 + D @ u # compute the solution for the original system"
   ]
  },
  {
   "cell_type": "code",
   "execution_count": 18,
   "metadata": {},
   "outputs": [
    {
     "name": "stdout",
     "output_type": "stream",
     "text": [
      "Node Voltages:\n"
     ]
    },
    {
     "data": {
      "text/plain": [
       "array([[2.5 ],\n",
       "       [5.  ],\n",
       "       [3.75],\n",
       "       [5.  ],\n",
       "       [0.  ],\n",
       "       [1.25]])"
      ]
     },
     "execution_count": 18,
     "metadata": {},
     "output_type": "execute_result"
    }
   ],
   "source": [
    "print(\"Node Voltages:\")\n",
    "u0 = np.round(u0, 3)\n",
    "u0"
   ]
  }
 ],
 "metadata": {
  "kernelspec": {
   "display_name": "Python 3",
   "language": "python",
   "name": "python3"
  },
  "language_info": {
   "codemirror_mode": {
    "name": "ipython",
    "version": 3
   },
   "file_extension": ".py",
   "mimetype": "text/x-python",
   "name": "python",
   "nbconvert_exporter": "python",
   "pygments_lexer": "ipython3",
   "version": "3.11.4"
  }
 },
 "nbformat": 4,
 "nbformat_minor": 2
}
