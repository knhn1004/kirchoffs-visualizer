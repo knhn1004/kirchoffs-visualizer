{
 "cells": [
  {
   "cell_type": "code",
   "execution_count": 441,
   "metadata": {},
   "outputs": [],
   "source": [
    "import numpy as np\n",
    "import networkx as nx\n",
    "import matplotlib.pyplot as plt"
   ]
  },
  {
   "cell_type": "markdown",
   "metadata": {},
   "source": [
    "## Identify Nodes"
   ]
  },
  {
   "cell_type": "code",
   "execution_count": 442,
   "metadata": {},
   "outputs": [],
   "source": [
    "def identify_nodes(circuit):\n",
    "    # Extract nodes from the circuit description\n",
    "    nodes = []\n",
    "    for element in circuit:\n",
    "        if element[\"type\"] != \"ground\":\n",
    "            nodes.extend(element[\"nodes\"])\n",
    "    nodes = list(set(nodes))  # Remove duplicate nodes\n",
    "    return nodes\n",
    "\n"
   ]
  },
  {
   "cell_type": "markdown",
   "metadata": {},
   "source": [
    "## Create Digraph Model"
   ]
  },
  {
   "cell_type": "code",
   "execution_count": 443,
   "metadata": {},
   "outputs": [],
   "source": [
    "def create_digraph_model(circuit):\n",
    "    digraph = {\n",
    "        \"nodes\": [],\n",
    "        \"edges\": [],\n",
    "        \"num_nodes\": 0,\n",
    "        \"num_resistors\": 0,\n",
    "        \"num_voltage_sources\": 0,\n",
    "        \"num_current_sources\": 0\n",
    "    }\n",
    "\n",
    "    for element in circuit:\n",
    "        if element[\"type\"] == \"resistor\":\n",
    "            digraph[\"edges\"].append(\n",
    "                {\"type\": \"resistor\", \"nodes\": element[\"nodes\"], \"value\": element[\"value\"]})\n",
    "            digraph[\"num_resistors\"] += 1\n",
    "        elif element[\"type\"] == \"voltage_source\":\n",
    "            digraph[\"edges\"].append(\n",
    "                {\"type\": \"voltage_source\", \"nodes\": element[\"nodes\"], \"value\": element[\"value\"]})\n",
    "            digraph[\"num_voltage_sources\"] += 1\n",
    "        elif element[\"type\"] == \"current_source\":\n",
    "            digraph[\"edges\"].append(\n",
    "                {\"type\": \"current_source\", \"nodes\": element[\"nodes\"], \"value\": element[\"value\"]})\n",
    "            digraph[\"num_current_sources\"] += 1\n",
    "\n",
    "    digraph[\"nodes\"] = list(\n",
    "        set([node for edge in digraph[\"edges\"] for node in edge[\"nodes\"]]))\n",
    "    digraph[\"num_nodes\"] = len(digraph[\"nodes\"])\n",
    "\n",
    "    return digraph"
   ]
  },
  {
   "cell_type": "markdown",
   "metadata": {},
   "source": [
    "## Create Incidence Matrix"
   ]
  },
  {
   "cell_type": "code",
   "execution_count": 444,
   "metadata": {},
   "outputs": [],
   "source": [
    "def create_incidence_matrix(digraph):\n",
    "    num_nodes = digraph[\"num_nodes\"]\n",
    "    num_edges = len(digraph[\"edges\"])\n",
    "    A_g = np.zeros((num_edges, num_nodes))\n",
    "\n",
    "    for j, edge in enumerate(digraph[\"edges\"]):\n",
    "        nodes = edge[\"nodes\"]\n",
    "        if len(nodes) == 2:\n",
    "            A_g[j, digraph[\"nodes\"].index(nodes[0])] = 1\n",
    "            A_g[j, digraph[\"nodes\"].index(nodes[1])] = -1\n",
    "\n",
    "    return A_g"
   ]
  },
  {
   "cell_type": "markdown",
   "metadata": {},
   "source": [
    "## Create Circuit Vectors"
   ]
  },
  {
   "cell_type": "code",
   "execution_count": 445,
   "metadata": {},
   "outputs": [],
   "source": [
    "def create_circuit_vectors(digraph):\n",
    "    num_nodes = digraph[\"num_nodes\"]\n",
    "    num_edges = len(digraph[\"edges\"])\n",
    "    u_g = np.zeros(num_nodes)\n",
    "    v = np.zeros(num_edges)\n",
    "    i = np.zeros(num_edges)\n",
    "\n",
    "    for j, edge in enumerate(digraph[\"edges\"]):\n",
    "        if edge[\"type\"] == \"voltage_source\":\n",
    "            v[j] = edge[\"value\"]\n",
    "        elif edge[\"type\"] == \"current_source\":\n",
    "            i[j] = edge[\"value\"]\n",
    "\n",
    "    return u_g, v, i"
   ]
  },
  {
   "cell_type": "markdown",
   "metadata": {},
   "source": [
    "## State Circuit Equations"
   ]
  },
  {
   "cell_type": "code",
   "execution_count": 446,
   "metadata": {},
   "outputs": [],
   "source": [
    "def state_circuit_equations(A_g, u_g, v, i):\n",
    "    equations = {\n",
    "        \"KVL\": A_g @ u_g - v,\n",
    "        \"KCL\": A_g.T @ i\n",
    "    }\n",
    "    return equations"
   ]
  },
  {
   "cell_type": "markdown",
   "metadata": {},
   "source": [
    "## Determine Nodes"
   ]
  },
  {
   "cell_type": "code",
   "execution_count": 447,
   "metadata": {},
   "outputs": [],
   "source": [
    "def determine_nodes(nodes, digraph):\n",
    "    ordinary_nodes = []\n",
    "    generalized_nodes = []\n",
    "\n",
    "    # Find nodes connected by voltage sources\n",
    "    voltage_source_nodes = set()\n",
    "    for edge in digraph[\"edges\"]:\n",
    "        if edge[\"type\"] == \"voltage_source\":\n",
    "            voltage_source_nodes.update(edge[\"nodes\"])\n",
    "\n",
    "    # Determine ordinary and generalized nodes\n",
    "    for node in nodes:\n",
    "        if node in voltage_source_nodes:\n",
    "            # Check if the node is part of a generalized node\n",
    "            connected_nodes = set()\n",
    "            stack = [node]\n",
    "            while stack:\n",
    "                current_node = stack.pop()\n",
    "                connected_nodes.add(current_node)\n",
    "                for edge in digraph[\"edges\"]:\n",
    "                    if edge[\"type\"] == \"voltage_source\" and current_node in edge[\"nodes\"]:\n",
    "                        other_node = edge[\"nodes\"][0] if current_node == edge[\"nodes\"][1] else edge[\"nodes\"][1]\n",
    "                        if other_node not in connected_nodes:\n",
    "                            stack.append(other_node)\n",
    "            generalized_nodes.append(list(connected_nodes))\n",
    "        else:\n",
    "            ordinary_nodes.append(node)\n",
    "\n",
    "    # Remove duplicate generalized nodes\n",
    "    generalized_nodes = [list(x) for x in set(\n",
    "        tuple(sorted(x)) for x in generalized_nodes)]\n",
    "\n",
    "    return ordinary_nodes, generalized_nodes"
   ]
  },
  {
   "cell_type": "markdown",
   "metadata": {},
   "source": [
    "## Ground Circuit"
   ]
  },
  {
   "cell_type": "code",
   "execution_count": 448,
   "metadata": {},
   "outputs": [],
   "source": [
    "def ground_circuit(A_g, u_g, ground_node_index):\n",
    "    num_nodes = len(u_g)\n",
    "    D_0 = np.eye(num_nodes)[:, np.arange(num_nodes) != ground_node_index]\n",
    "    A_0 = A_g @ D_0\n",
    "    u_0 = D_0.T @ u_g\n",
    "    return A_0, u_0"
   ]
  },
  {
   "cell_type": "markdown",
   "metadata": {},
   "source": [
    "## State Grounded Equations"
   ]
  },
  {
   "cell_type": "code",
   "execution_count": 449,
   "metadata": {},
   "outputs": [],
   "source": [
    "def state_grounded_equations(A_0, u_0, v, i, digraph):\n",
    "    num_resistors = digraph[\"num_resistors\"]\n",
    "    num_voltage_sources = digraph[\"num_voltage_sources\"]\n",
    "\n",
    "    A_r_0 = A_0[:num_resistors]\n",
    "    A_v_0 = A_0[num_resistors:num_resistors + num_voltage_sources]\n",
    "    A_i_0 = A_0[num_resistors + num_voltage_sources:]\n",
    "\n",
    "    v_r = v[:num_resistors]\n",
    "    v_v = v[num_resistors:num_resistors + num_voltage_sources]\n",
    "    v_i = v[num_resistors + num_voltage_sources:]\n",
    "\n",
    "    i_r = i[:num_resistors]\n",
    "    i_v = i[num_resistors:num_resistors + num_voltage_sources]\n",
    "    i_i = i[num_resistors + num_voltage_sources:]\n",
    "\n",
    "    grounded_equations = {\n",
    "        \"KVL_r\": A_r_0 @ u_0 - v_r,\n",
    "        \"KVL_v\": A_v_0 @ u_0 - v_v,\n",
    "        \"KVL_i\": A_i_0 @ u_0 - v_i,\n",
    "        \"KCL\": A_r_0.T @ i_r + A_v_0.T @ i_v + A_i_0.T @ i_i\n",
    "    }\n",
    "\n",
    "    return grounded_equations"
   ]
  },
  {
   "cell_type": "markdown",
   "metadata": {},
   "source": [
    "## Identify Node Types"
   ]
  },
  {
   "cell_type": "code",
   "execution_count": 450,
   "metadata": {},
   "outputs": [],
   "source": [
    "def identify_node_types(nodes, ground_node, generalized_nodes):\n",
    "    essential_nodes = []\n",
    "    nonessential_nodes = []\n",
    "    supernodes = []\n",
    "\n",
    "    for node in nodes:\n",
    "        if node == ground_node:\n",
    "            continue\n",
    "\n",
    "        if node in [n for gn in generalized_nodes for n in gn]:\n",
    "            if ground_node in [n for gn in generalized_nodes for n in gn]:\n",
    "                nonessential_nodes.append(node)\n",
    "            else:\n",
    "                supernodes.append(node)\n",
    "        else:\n",
    "            essential_nodes.append(node)\n",
    "\n",
    "    return essential_nodes, nonessential_nodes, supernodes"
   ]
  },
  {
   "cell_type": "markdown",
   "metadata": {},
   "source": [
    "## Eliminate Node Dependencies"
   ]
  },
  {
   "cell_type": "code",
   "execution_count": 451,
   "metadata": {},
   "outputs": [],
   "source": [
    "def eliminate_node_dependencies(A_g, u_g, v_v, generalized_nodes):\n",
    "    num_nodes = len(u_g)\n",
    "    num_voltage_sources = len(v_v)\n",
    "\n",
    "    # Create a mapping of nodes to their corresponding generalized node\n",
    "    node_to_generalized = {}\n",
    "    for gn in generalized_nodes:\n",
    "        for node in gn:\n",
    "            node_to_generalized[node] = gn\n",
    "\n",
    "    # Assign independent and dependent node voltage potentials\n",
    "    independent_nodes = []\n",
    "    dependent_nodes = []\n",
    "    for gn in generalized_nodes:\n",
    "        independent_node = gn[0]\n",
    "        independent_nodes.append(independent_node)\n",
    "        dependent_nodes.extend(gn[1:])\n",
    "\n",
    "    # Create the D_v_g matrix\n",
    "    D_v_g = np.zeros((num_nodes, num_nodes - num_voltage_sources))\n",
    "    for i, node in enumerate(independent_nodes + [n for n in u_g if n not in node_to_generalized]):\n",
    "        D_v_g[node, i] = 1\n",
    "\n",
    "    # Create the u vector\n",
    "    u = [u_g[node] for node in independent_nodes]\n",
    "\n",
    "    # Create the p_g vector\n",
    "    p_g = np.zeros(num_nodes)\n",
    "    for node, gn in node_to_generalized.items():\n",
    "        if node != gn[0]:\n",
    "            p_g[node] = u_g[gn[0]] - v_v[generalized_nodes.index(gn)]\n",
    "\n",
    "    return D_v_g, u, p_g"
   ]
  },
  {
   "cell_type": "markdown",
   "metadata": {},
   "source": [
    "## State Deflated Equation"
   ]
  },
  {
   "cell_type": "code",
   "execution_count": 452,
   "metadata": {},
   "outputs": [],
   "source": [
    "def state_deflated_equations(A_0, D_v_g, u, p_g, i_i, digraph):\n",
    "    num_nodes = A_0.shape[1]\n",
    "    num_voltage_sources = digraph[\"num_voltage_sources\"]\n",
    "    num_resistors = digraph[\"num_resistors\"]\n",
    "\n",
    "    # Create the grounded voltage source deflation matrix D\n",
    "    D = D_v_g[:num_nodes, :num_nodes - num_voltage_sources]\n",
    "\n",
    "    # Create the fully deflated incidence matrix A\n",
    "    A = A_0 @ D\n",
    "    A_r = A[:num_resistors]\n",
    "    A_v = A[num_resistors:num_resistors + num_voltage_sources]\n",
    "    A_i = A[num_resistors + num_voltage_sources:]\n",
    "\n",
    "    # Create the grounded particular solution vector p_0\n",
    "    p_0 = p_g[:num_nodes - num_voltage_sources]\n",
    "\n",
    "    # Create the conductance matrix G\n",
    "    G = np.diag([1 / edge[\"value\"]\n",
    "                for edge in digraph[\"edges\"] if edge[\"type\"] == \"resistor\"])\n",
    "\n",
    "    # Create the K matrix and f vector\n",
    "    K = A_r.T @ G @ A_r\n",
    "    f = A_i.T @ i_i - A_r.T @ G @ (A_r @ p_0)\n",
    "\n",
    "    return K, f"
   ]
  },
  {
   "cell_type": "code",
   "execution_count": 453,
   "metadata": {},
   "outputs": [],
   "source": [
    "def solve_lana_equation(K, f):\n",
    "    u = np.linalg.pinv(K) @ f\n",
    "    return u"
   ]
  },
  {
   "cell_type": "markdown",
   "metadata": {},
   "source": [
    "## Calculate Circuit Variables"
   ]
  },
  {
   "cell_type": "code",
   "execution_count": 454,
   "metadata": {},
   "outputs": [],
   "source": [
    "def calculate_circuit_variables(u, p_0, D, digraph):\n",
    "    # Calculate node voltage potentials\n",
    "    u_0 = p_0.reshape(-1, 1)[:D.shape[0]] + D @ u.reshape(-1, 1)\n",
    "    node_potentials = np.zeros(len(digraph[\"nodes\"]))\n",
    "    node_potentials[:u_0.shape[0]] = u_0.flatten()\n",
    "\n",
    "    # Calculate voltage drops across each element\n",
    "    v = {}\n",
    "    for edge in digraph[\"edges\"]:\n",
    "        if edge[\"type\"] == \"resistor\":\n",
    "            node_from, node_to = edge[\"nodes\"]\n",
    "            v[tuple(edge[\"nodes\"])] = node_potentials[node_from] - \\\n",
    "                node_potentials[node_to]\n",
    "        elif edge[\"type\"] == \"voltage_source\":\n",
    "            v[tuple(edge[\"nodes\"])] = edge[\"value\"]\n",
    "\n",
    "    # Calculate currents through each element\n",
    "    i = {}\n",
    "    for edge in digraph[\"edges\"]:\n",
    "        if edge[\"type\"] == \"resistor\":\n",
    "            node_from, node_to = edge[\"nodes\"]\n",
    "            i[tuple(edge[\"nodes\"])] = (node_potentials[node_from] -\n",
    "                                       node_potentials[node_to]) / edge[\"value\"]\n",
    "        elif edge[\"type\"] == \"current_source\":\n",
    "            i[tuple(edge[\"nodes\"])] = edge[\"value\"]\n",
    "\n",
    "    return node_potentials, v, i"
   ]
  },
  {
   "cell_type": "markdown",
   "metadata": {},
   "source": [
    "## Define Circuit Elements"
   ]
  },
  {
   "cell_type": "code",
   "execution_count": 455,
   "metadata": {},
   "outputs": [],
   "source": [
    "#circuit = [\n",
    "#    {\n",
    "#        \"type\": \"resistor\",\n",
    "#        \"nodes\": [0, 1],\n",
    "#        \"value\": 10\n",
    "#    },\n",
    "#    {\n",
    "#        \"type\": \"resistor\",\n",
    "#        \"nodes\": [1, 2],\n",
    "#        \"value\": 20\n",
    "#    },\n",
    "#    {\n",
    "#        \"type\": \"resistor\",\n",
    "#        \"nodes\": [2, 0],\n",
    "#        \"value\": 30\n",
    "#    },\n",
    "#    {\n",
    "#        \"type\": \"voltage_source\",\n",
    "#        \"nodes\": [0, 3],\n",
    "#        \"value\": 5\n",
    "#    },\n",
    "#    {\n",
    "#        \"type\": \"current_source\",\n",
    "#        \"nodes\": [1, 3],\n",
    "#        \"value\": 0.1\n",
    "#    },\n",
    "#    {\n",
    "#        \"type\": \"ground\",\n",
    "#        \"nodes\": [3]\n",
    "#    }\n",
    "#]\n",
    "\n",
    "circuit = [\n",
    "    {\n",
    "        \"type\": \"resistor\",\n",
    "        \"nodes\": [0, 1],\n",
    "        \"value\": 10\n",
    "    },\n",
    "    {\n",
    "        \"type\": \"resistor\",\n",
    "        \"nodes\": [1, 2],\n",
    "        \"value\": 20\n",
    "    },\n",
    "    {\n",
    "        \"type\": \"resistor\",\n",
    "        \"nodes\": [2, 3],\n",
    "        \"value\": 30\n",
    "    },\n",
    "    {\n",
    "        \"type\": \"resistor\",\n",
    "        \"nodes\": [3, 0],\n",
    "        \"value\": 40\n",
    "    },\n",
    "    {\n",
    "        \"type\": \"resistor\",\n",
    "        \"nodes\": [1, 3],\n",
    "        \"value\": 50\n",
    "    },\n",
    "    {\n",
    "        \"type\": \"voltage_source\",\n",
    "        \"nodes\": [0, 4],\n",
    "        \"value\": 10\n",
    "    },\n",
    "    {\n",
    "        \"type\": \"voltage_source\",\n",
    "        \"nodes\": [2, 4],\n",
    "        \"value\": 5\n",
    "    },\n",
    "    {\n",
    "        \"type\": \"current_source\",\n",
    "        \"nodes\": [1, 4],\n",
    "        \"value\": 0.2\n",
    "    },\n",
    "    {\n",
    "        \"type\": \"current_source\",\n",
    "        \"nodes\": [3, 4],\n",
    "        \"value\": 0.1\n",
    "    },\n",
    "    {\n",
    "        \"type\": \"ground\",\n",
    "        \"nodes\": [4]\n",
    "    }\n",
    "]"
   ]
  },
  {
   "cell_type": "markdown",
   "metadata": {},
   "source": [
    "## Visualizing the Circuit"
   ]
  },
  {
   "cell_type": "code",
   "execution_count": 456,
   "metadata": {},
   "outputs": [],
   "source": [
    "\n",
    "\n",
    "def visualize_circuit(circuit):\n",
    "    G = nx.Graph()\n",
    "\n",
    "    for element in circuit:\n",
    "        if element[\"type\"] == \"ground\":\n",
    "            node = element[\"nodes\"][0]\n",
    "            G.add_node(node, label=f\"Ground ({node})\")\n",
    "        else:\n",
    "            node_from, node_to = element[\"nodes\"]\n",
    "            G.add_edge(node_from, node_to)\n",
    "\n",
    "            if element[\"type\"] == \"resistor\":\n",
    "                label = f\"R = {element['value']} Ω\"\n",
    "            elif element[\"type\"] == \"voltage_source\":\n",
    "                label = f\"V = {element['value']} V\"\n",
    "            elif element[\"type\"] == \"current_source\":\n",
    "                label = f\"I = {element['value']} A\"\n",
    "\n",
    "            G.edges[node_from, node_to][\"label\"] = label\n",
    "\n",
    "    pos = nx.spring_layout(G)\n",
    "\n",
    "    nx.draw_networkx_nodes(G, pos, node_color=\"lightblue\", node_size=500)\n",
    "    nx.draw_networkx_edges(G, pos, width=2)\n",
    "    nx.draw_networkx_labels(G, pos, font_size=12)\n",
    "    nx.draw_networkx_edge_labels(\n",
    "        G, pos, edge_labels=nx.get_edge_attributes(G, \"label\"), font_size=10)\n",
    "\n",
    "    plt.axis(\"off\")\n",
    "    plt.show()"
   ]
  },
  {
   "cell_type": "code",
   "execution_count": 457,
   "metadata": {},
   "outputs": [
    {
     "name": "stdout",
     "output_type": "stream",
     "text": [
      "Identified Nodes: [0, 1, 2, 3, 4]\n"
     ]
    }
   ],
   "source": [
    "nodes = identify_nodes(circuit)\n",
    "print(\"Identified Nodes:\", nodes)"
   ]
  },
  {
   "cell_type": "code",
   "execution_count": 458,
   "metadata": {},
   "outputs": [
    {
     "name": "stdout",
     "output_type": "stream",
     "text": [
      "Directed Graph Model:\n",
      "{'nodes': [0, 1, 2, 3, 4], 'edges': [{'type': 'resistor', 'nodes': [0, 1], 'value': 10}, {'type': 'resistor', 'nodes': [1, 2], 'value': 20}, {'type': 'resistor', 'nodes': [2, 3], 'value': 30}, {'type': 'resistor', 'nodes': [3, 0], 'value': 40}, {'type': 'resistor', 'nodes': [1, 3], 'value': 50}, {'type': 'voltage_source', 'nodes': [0, 4], 'value': 10}, {'type': 'voltage_source', 'nodes': [2, 4], 'value': 5}, {'type': 'current_source', 'nodes': [1, 4], 'value': 0.2}, {'type': 'current_source', 'nodes': [3, 4], 'value': 0.1}], 'num_nodes': 5, 'num_resistors': 5, 'num_voltage_sources': 2, 'num_current_sources': 2}\n"
     ]
    }
   ],
   "source": [
    "digraph = create_digraph_model(circuit)\n",
    "print(\"Directed Graph Model:\")\n",
    "print(digraph)"
   ]
  },
  {
   "cell_type": "code",
   "execution_count": 459,
   "metadata": {},
   "outputs": [
    {
     "name": "stdout",
     "output_type": "stream",
     "text": [
      "Incidence Matrix (A_g):\n",
      "[[ 1. -1.  0.  0.  0.]\n",
      " [ 0.  1. -1.  0.  0.]\n",
      " [ 0.  0.  1. -1.  0.]\n",
      " [-1.  0.  0.  1.  0.]\n",
      " [ 0.  1.  0. -1.  0.]\n",
      " [ 1.  0.  0.  0. -1.]\n",
      " [ 0.  0.  1.  0. -1.]\n",
      " [ 0.  1.  0.  0. -1.]\n",
      " [ 0.  0.  0.  1. -1.]]\n"
     ]
    }
   ],
   "source": [
    "A_g = create_incidence_matrix(digraph)\n",
    "print(\"Incidence Matrix (A_g):\")\n",
    "print(A_g)"
   ]
  },
  {
   "cell_type": "code",
   "execution_count": 460,
   "metadata": {},
   "outputs": [
    {
     "name": "stdout",
     "output_type": "stream",
     "text": [
      "Circuit Vectors:\n",
      "u_g: [0. 0. 0. 0. 0.]\n",
      "v: [ 0.  0.  0.  0.  0. 10.  5.  0.  0.]\n",
      "i: [0.  0.  0.  0.  0.  0.  0.  0.2 0.1]\n"
     ]
    }
   ],
   "source": [
    "u_g, v, i = create_circuit_vectors(digraph)\n",
    "print(\"Circuit Vectors:\")\n",
    "print(\"u_g:\", u_g)\n",
    "print(\"v:\", v)\n",
    "print(\"i:\", i)"
   ]
  },
  {
   "cell_type": "code",
   "execution_count": 461,
   "metadata": {},
   "outputs": [
    {
     "name": "stdout",
     "output_type": "stream",
     "text": [
      "Circuit Equations:\n",
      "{'KVL': array([  0.,   0.,   0.,   0.,   0., -10.,  -5.,   0.,   0.]), 'KCL': array([ 0. ,  0.2,  0. ,  0.1, -0.3])}\n"
     ]
    }
   ],
   "source": [
    "equations = state_circuit_equations(A_g, u_g, v, i)\n",
    "print(\"Circuit Equations:\")\n",
    "print(equations)"
   ]
  },
  {
   "cell_type": "code",
   "execution_count": 462,
   "metadata": {},
   "outputs": [
    {
     "name": "stdout",
     "output_type": "stream",
     "text": [
      "Ordinary Nodes: [1, 3]\n",
      "Generalized Nodes: [[0, 2, 4]]\n"
     ]
    }
   ],
   "source": [
    "ordinary_nodes, generalized_nodes = determine_nodes(nodes, digraph)\n",
    "print(\"Ordinary Nodes:\", ordinary_nodes)\n",
    "print(\"Generalized Nodes:\", generalized_nodes)"
   ]
  },
  {
   "cell_type": "code",
   "execution_count": 463,
   "metadata": {},
   "outputs": [
    {
     "name": "stdout",
     "output_type": "stream",
     "text": [
      "Ground Node: 4\n"
     ]
    }
   ],
   "source": [
    "ground_node = nodes[-1]  # Select the last node as the ground node\n",
    "print(\"Ground Node:\", ground_node)"
   ]
  },
  {
   "cell_type": "code",
   "execution_count": 464,
   "metadata": {},
   "outputs": [
    {
     "name": "stdout",
     "output_type": "stream",
     "text": [
      "Ground Node Index: 4\n"
     ]
    }
   ],
   "source": [
    "ground_node_index = digraph[\"nodes\"].index(ground_node)\n",
    "print(\"Ground Node Index:\", ground_node_index)"
   ]
  },
  {
   "cell_type": "code",
   "execution_count": 465,
   "metadata": {},
   "outputs": [
    {
     "name": "stdout",
     "output_type": "stream",
     "text": [
      "Grounded Incidence Matrix (A_0):\n",
      "[[ 1. -1.  0.  0.]\n",
      " [ 0.  1. -1.  0.]\n",
      " [ 0.  0.  1. -1.]\n",
      " [-1.  0.  0.  1.]\n",
      " [ 0.  1.  0. -1.]\n",
      " [ 1.  0.  0.  0.]\n",
      " [ 0.  0.  1.  0.]\n",
      " [ 0.  1.  0.  0.]\n",
      " [ 0.  0.  0.  1.]]\n",
      "Grounded Node Voltage Potential Vector (u_0):\n",
      "[0. 0. 0. 0.]\n"
     ]
    }
   ],
   "source": [
    "A_0, u_0 = ground_circuit(A_g, u_g, ground_node_index)\n",
    "print(\"Grounded Incidence Matrix (A_0):\")\n",
    "print(A_0)\n",
    "print(\"Grounded Node Voltage Potential Vector (u_0):\")\n",
    "print(u_0)"
   ]
  },
  {
   "cell_type": "code",
   "execution_count": 466,
   "metadata": {},
   "outputs": [
    {
     "name": "stdout",
     "output_type": "stream",
     "text": [
      "Grounded Circuit Equations:\n",
      "{'KVL_r': array([0., 0., 0., 0., 0.]), 'KVL_v': array([-10.,  -5.]), 'KVL_i': array([0., 0.]), 'KCL': array([0. , 0.2, 0. , 0.1])}\n"
     ]
    }
   ],
   "source": [
    "grounded_equations = state_grounded_equations(A_0, u_0, v, i, digraph)\n",
    "print(\"Grounded Circuit Equations:\")\n",
    "print(grounded_equations)"
   ]
  },
  {
   "cell_type": "code",
   "execution_count": 467,
   "metadata": {},
   "outputs": [
    {
     "name": "stdout",
     "output_type": "stream",
     "text": [
      "Essential Nodes: [1, 3]\n",
      "Nonessential Nodes: [0, 2]\n",
      "Supernodes: []\n"
     ]
    }
   ],
   "source": [
    "essential_nodes, nonessential_nodes, supernodes = identify_node_types(\n",
    "    nodes, ground_node, generalized_nodes)\n",
    "print(\"Essential Nodes:\", essential_nodes)\n",
    "print(\"Nonessential Nodes:\", nonessential_nodes)\n",
    "print(\"Supernodes:\", supernodes)"
   ]
  },
  {
   "cell_type": "code",
   "execution_count": 468,
   "metadata": {},
   "outputs": [
    {
     "name": "stdout",
     "output_type": "stream",
     "text": [
      "Voltage Source Deflation Matrix (D_v_g):\n",
      "[[1. 0. 0.]\n",
      " [0. 0. 0.]\n",
      " [0. 0. 0.]\n",
      " [0. 0. 0.]\n",
      " [0. 0. 0.]]\n",
      "Independent Node Voltage Potential Vector (u):\n",
      "[0.0]\n",
      "Particular Solution Vector (p_g):\n",
      "[  0.   0. -10.   0. -10.]\n"
     ]
    }
   ],
   "source": [
    "D_v_g, u, p_g = eliminate_node_dependencies(\n",
    "    A_g, u_g, v[digraph[\"num_resistors\"]:digraph[\"num_resistors\"] + digraph[\"num_voltage_sources\"]], generalized_nodes)\n",
    "print(\"Voltage Source Deflation Matrix (D_v_g):\")\n",
    "print(D_v_g)\n",
    "print(\"Independent Node Voltage Potential Vector (u):\")\n",
    "print(u)\n",
    "print(\"Particular Solution Vector (p_g):\")\n",
    "print(p_g)"
   ]
  },
  {
   "cell_type": "code",
   "execution_count": 469,
   "metadata": {},
   "outputs": [
    {
     "name": "stdout",
     "output_type": "stream",
     "text": [
      "Deflated Equations:\n",
      "K:\n",
      "[[0.125 0.   ]\n",
      " [0.    0.   ]]\n",
      "f:\n",
      "[0. 0.]\n"
     ]
    }
   ],
   "source": [
    "K, f = state_deflated_equations(\n",
    "    A_0, D_v_g, u, p_g, i[digraph[\"num_resistors\"] + digraph[\"num_voltage_sources\"]:], digraph)\n",
    "print(\"Deflated Equations:\")\n",
    "print(\"K:\")\n",
    "print(K)\n",
    "print(\"f:\")\n",
    "print(f)"
   ]
  },
  {
   "cell_type": "code",
   "execution_count": 470,
   "metadata": {},
   "outputs": [
    {
     "name": "stdout",
     "output_type": "stream",
     "text": [
      "Solved Independent Node Voltage Potentials (u_solved):\n",
      "[0. 0.]\n"
     ]
    }
   ],
   "source": [
    "u_solved = solve_lana_equation(K, f)\n",
    "print(\"Solved Independent Node Voltage Potentials (u_solved):\")\n",
    "print(u_solved)"
   ]
  },
  {
   "cell_type": "code",
   "execution_count": 471,
   "metadata": {},
   "outputs": [],
   "source": [
    "node_potentials, v_dict, i_dict = calculate_circuit_variables(\n",
    "    u_solved, p_g[:D_v_g.shape[0]], D_v_g.T[:D_v_g.shape[0], :len(u_solved)], digraph)"
   ]
  },
  {
   "cell_type": "code",
   "execution_count": 472,
   "metadata": {},
   "outputs": [
    {
     "name": "stdout",
     "output_type": "stream",
     "text": [
      "Node Potentials:\n",
      "Node 0: 0.0 V\n",
      "Node 1: 0.0 V\n",
      "Node 2: -10.0 V\n",
      "Node 3: 0.0 V\n",
      "Node 4: 0.0 V\n"
     ]
    }
   ],
   "source": [
    "print(\"Node Potentials:\")\n",
    "for node, potential in zip(digraph[\"nodes\"], node_potentials):\n",
    "    print(f\"Node {node}: {potential} V\")"
   ]
  },
  {
   "cell_type": "code",
   "execution_count": 473,
   "metadata": {},
   "outputs": [
    {
     "name": "stdout",
     "output_type": "stream",
     "text": [
      "\n",
      "Voltage Drops:\n",
      "Element (0, 1): 0.0 V\n",
      "Element (1, 2): 10.0 V\n",
      "Element (2, 3): -10.0 V\n",
      "Element (3, 0): 0.0 V\n",
      "Element (1, 3): 0.0 V\n",
      "Element (0, 4): 10 V\n",
      "Element (2, 4): 5 V\n"
     ]
    }
   ],
   "source": [
    "print(\"\\nVoltage Drops:\")\n",
    "for (node_from, node_to), voltage in v_dict.items():\n",
    "    print(f\"Element ({node_from}, {node_to}): {voltage} V\")"
   ]
  },
  {
   "cell_type": "code",
   "execution_count": 474,
   "metadata": {},
   "outputs": [
    {
     "name": "stdout",
     "output_type": "stream",
     "text": [
      "\n",
      "Currents:\n",
      "Element (0, 1): 0.0 A\n",
      "Element (1, 2): 0.5 A\n",
      "Element (2, 3): -0.3333333333333333 A\n",
      "Element (3, 0): 0.0 A\n",
      "Element (1, 3): 0.0 A\n",
      "Element (1, 4): 0.2 A\n",
      "Element (3, 4): 0.1 A\n"
     ]
    }
   ],
   "source": [
    "print(\"\\nCurrents:\")\n",
    "for (node_from, node_to), current in i_dict.items():\n",
    "    print(f\"Element ({node_from}, {node_to}): {current} A\")"
   ]
  },
  {
   "cell_type": "code",
   "execution_count": 475,
   "metadata": {},
   "outputs": [
    {
     "data": {
      "image/png": "[encoded data removed]",
      "text/plain": [
       "<Figure size 640x480 with 1 Axes>"
      ]
     },
     "metadata": {},
     "output_type": "display_data"
    }
   ],
   "source": [
    "visualize_circuit(circuit)"
   ]
  }
 ],
 "metadata": {
  "kernelspec": {
   "display_name": "Python 3",
   "language": "python",
   "name": "python3"
  },
  "language_info": {
   "codemirror_mode": {
    "name": "ipython",
    "version": 3
   },
   "file_extension": ".py",
   "mimetype": "text/x-python",
   "name": "python",
   "nbconvert_exporter": "python",
   "pygments_lexer": "ipython3",
   "version": "3.11.4"
  }
 },
 "nbformat": 4,
 "nbformat_minor": 2
}
